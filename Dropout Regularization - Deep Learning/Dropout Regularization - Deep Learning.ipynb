{
 "cells": [
  {
   "cell_type": "code",
   "execution_count": 1,
   "metadata": {},
   "outputs": [],
   "source": [
    "import pandas as pd\n",
    "import numpy as np\n",
    "import matplotlib.pyplot as plt\n",
    "import seaborn as sns"
   ]
  },
  {
   "cell_type": "code",
   "execution_count": 7,
   "metadata": {},
   "outputs": [],
   "source": [
    "df=pd.read_table('sonar_dataset.txt',delimiter=',',header=None)"
   ]
  },
  {
   "cell_type": "code",
   "execution_count": 8,
   "metadata": {},
   "outputs": [
    {
     "data": {
      "text/html": [
       "<div>\n",
       "<style scoped>\n",
       "    .dataframe tbody tr th:only-of-type {\n",
       "        vertical-align: middle;\n",
       "    }\n",
       "\n",
       "    .dataframe tbody tr th {\n",
       "        vertical-align: top;\n",
       "    }\n",
       "\n",
       "    .dataframe thead th {\n",
       "        text-align: right;\n",
       "    }\n",
       "</style>\n",
       "<table border=\"1\" class=\"dataframe\">\n",
       "  <thead>\n",
       "    <tr style=\"text-align: right;\">\n",
       "      <th></th>\n",
       "      <th>0</th>\n",
       "      <th>1</th>\n",
       "      <th>2</th>\n",
       "      <th>3</th>\n",
       "      <th>4</th>\n",
       "      <th>5</th>\n",
       "      <th>6</th>\n",
       "      <th>7</th>\n",
       "      <th>8</th>\n",
       "      <th>9</th>\n",
       "      <th>...</th>\n",
       "      <th>51</th>\n",
       "      <th>52</th>\n",
       "      <th>53</th>\n",
       "      <th>54</th>\n",
       "      <th>55</th>\n",
       "      <th>56</th>\n",
       "      <th>57</th>\n",
       "      <th>58</th>\n",
       "      <th>59</th>\n",
       "      <th>60</th>\n",
       "    </tr>\n",
       "  </thead>\n",
       "  <tbody>\n",
       "    <tr>\n",
       "      <th>54</th>\n",
       "      <td>0.0132</td>\n",
       "      <td>0.0080</td>\n",
       "      <td>0.0188</td>\n",
       "      <td>0.0141</td>\n",
       "      <td>0.0436</td>\n",
       "      <td>0.0668</td>\n",
       "      <td>0.0609</td>\n",
       "      <td>0.0131</td>\n",
       "      <td>0.0899</td>\n",
       "      <td>0.0922</td>\n",
       "      <td>...</td>\n",
       "      <td>0.0044</td>\n",
       "      <td>0.0028</td>\n",
       "      <td>0.0021</td>\n",
       "      <td>0.0022</td>\n",
       "      <td>0.0048</td>\n",
       "      <td>0.0138</td>\n",
       "      <td>0.0140</td>\n",
       "      <td>0.0028</td>\n",
       "      <td>0.0064</td>\n",
       "      <td>R</td>\n",
       "    </tr>\n",
       "    <tr>\n",
       "      <th>197</th>\n",
       "      <td>0.0366</td>\n",
       "      <td>0.0421</td>\n",
       "      <td>0.0504</td>\n",
       "      <td>0.0250</td>\n",
       "      <td>0.0596</td>\n",
       "      <td>0.0252</td>\n",
       "      <td>0.0958</td>\n",
       "      <td>0.0991</td>\n",
       "      <td>0.1419</td>\n",
       "      <td>0.1847</td>\n",
       "      <td>...</td>\n",
       "      <td>0.0132</td>\n",
       "      <td>0.0027</td>\n",
       "      <td>0.0022</td>\n",
       "      <td>0.0059</td>\n",
       "      <td>0.0016</td>\n",
       "      <td>0.0025</td>\n",
       "      <td>0.0017</td>\n",
       "      <td>0.0027</td>\n",
       "      <td>0.0027</td>\n",
       "      <td>M</td>\n",
       "    </tr>\n",
       "    <tr>\n",
       "      <th>143</th>\n",
       "      <td>0.0516</td>\n",
       "      <td>0.0944</td>\n",
       "      <td>0.0622</td>\n",
       "      <td>0.0415</td>\n",
       "      <td>0.0995</td>\n",
       "      <td>0.2431</td>\n",
       "      <td>0.1777</td>\n",
       "      <td>0.2018</td>\n",
       "      <td>0.2611</td>\n",
       "      <td>0.1294</td>\n",
       "      <td>...</td>\n",
       "      <td>0.0432</td>\n",
       "      <td>0.0274</td>\n",
       "      <td>0.0152</td>\n",
       "      <td>0.0120</td>\n",
       "      <td>0.0129</td>\n",
       "      <td>0.0020</td>\n",
       "      <td>0.0109</td>\n",
       "      <td>0.0074</td>\n",
       "      <td>0.0078</td>\n",
       "      <td>M</td>\n",
       "    </tr>\n",
       "    <tr>\n",
       "      <th>156</th>\n",
       "      <td>0.0047</td>\n",
       "      <td>0.0059</td>\n",
       "      <td>0.0080</td>\n",
       "      <td>0.0554</td>\n",
       "      <td>0.0883</td>\n",
       "      <td>0.1278</td>\n",
       "      <td>0.1674</td>\n",
       "      <td>0.1373</td>\n",
       "      <td>0.2922</td>\n",
       "      <td>0.3469</td>\n",
       "      <td>...</td>\n",
       "      <td>0.0095</td>\n",
       "      <td>0.0126</td>\n",
       "      <td>0.0069</td>\n",
       "      <td>0.0039</td>\n",
       "      <td>0.0068</td>\n",
       "      <td>0.0060</td>\n",
       "      <td>0.0045</td>\n",
       "      <td>0.0002</td>\n",
       "      <td>0.0029</td>\n",
       "      <td>M</td>\n",
       "    </tr>\n",
       "    <tr>\n",
       "      <th>51</th>\n",
       "      <td>0.0131</td>\n",
       "      <td>0.0068</td>\n",
       "      <td>0.0308</td>\n",
       "      <td>0.0311</td>\n",
       "      <td>0.0085</td>\n",
       "      <td>0.0767</td>\n",
       "      <td>0.0771</td>\n",
       "      <td>0.0640</td>\n",
       "      <td>0.0726</td>\n",
       "      <td>0.0901</td>\n",
       "      <td>...</td>\n",
       "      <td>0.0062</td>\n",
       "      <td>0.0028</td>\n",
       "      <td>0.0040</td>\n",
       "      <td>0.0075</td>\n",
       "      <td>0.0039</td>\n",
       "      <td>0.0053</td>\n",
       "      <td>0.0013</td>\n",
       "      <td>0.0052</td>\n",
       "      <td>0.0023</td>\n",
       "      <td>R</td>\n",
       "    </tr>\n",
       "  </tbody>\n",
       "</table>\n",
       "<p>5 rows × 61 columns</p>\n",
       "</div>"
      ],
      "text/plain": [
       "         0       1       2       3       4       5       6       7       8   \\\n",
       "54   0.0132  0.0080  0.0188  0.0141  0.0436  0.0668  0.0609  0.0131  0.0899   \n",
       "197  0.0366  0.0421  0.0504  0.0250  0.0596  0.0252  0.0958  0.0991  0.1419   \n",
       "143  0.0516  0.0944  0.0622  0.0415  0.0995  0.2431  0.1777  0.2018  0.2611   \n",
       "156  0.0047  0.0059  0.0080  0.0554  0.0883  0.1278  0.1674  0.1373  0.2922   \n",
       "51   0.0131  0.0068  0.0308  0.0311  0.0085  0.0767  0.0771  0.0640  0.0726   \n",
       "\n",
       "         9   ...      51      52      53      54      55      56      57  \\\n",
       "54   0.0922  ...  0.0044  0.0028  0.0021  0.0022  0.0048  0.0138  0.0140   \n",
       "197  0.1847  ...  0.0132  0.0027  0.0022  0.0059  0.0016  0.0025  0.0017   \n",
       "143  0.1294  ...  0.0432  0.0274  0.0152  0.0120  0.0129  0.0020  0.0109   \n",
       "156  0.3469  ...  0.0095  0.0126  0.0069  0.0039  0.0068  0.0060  0.0045   \n",
       "51   0.0901  ...  0.0062  0.0028  0.0040  0.0075  0.0039  0.0053  0.0013   \n",
       "\n",
       "         58      59  60  \n",
       "54   0.0028  0.0064   R  \n",
       "197  0.0027  0.0027   M  \n",
       "143  0.0074  0.0078   M  \n",
       "156  0.0002  0.0029   M  \n",
       "51   0.0052  0.0023   R  \n",
       "\n",
       "[5 rows x 61 columns]"
      ]
     },
     "execution_count": 8,
     "metadata": {},
     "output_type": "execute_result"
    }
   ],
   "source": [
    "df.sample(5)"
   ]
  },
  {
   "cell_type": "code",
   "execution_count": 9,
   "metadata": {},
   "outputs": [
    {
     "data": {
      "text/plain": [
       "0     0\n",
       "1     0\n",
       "2     0\n",
       "3     0\n",
       "4     0\n",
       "     ..\n",
       "56    0\n",
       "57    0\n",
       "58    0\n",
       "59    0\n",
       "60    0\n",
       "Length: 61, dtype: int64"
      ]
     },
     "execution_count": 9,
     "metadata": {},
     "output_type": "execute_result"
    }
   ],
   "source": [
    "df.isna().sum()"
   ]
  },
  {
   "cell_type": "code",
   "execution_count": 10,
   "metadata": {},
   "outputs": [
    {
     "data": {
      "text/plain": [
       "Int64Index([ 0,  1,  2,  3,  4,  5,  6,  7,  8,  9, 10, 11, 12, 13, 14, 15, 16,\n",
       "            17, 18, 19, 20, 21, 22, 23, 24, 25, 26, 27, 28, 29, 30, 31, 32, 33,\n",
       "            34, 35, 36, 37, 38, 39, 40, 41, 42, 43, 44, 45, 46, 47, 48, 49, 50,\n",
       "            51, 52, 53, 54, 55, 56, 57, 58, 59, 60],\n",
       "           dtype='int64')"
      ]
     },
     "execution_count": 10,
     "metadata": {},
     "output_type": "execute_result"
    }
   ],
   "source": [
    "df.columns"
   ]
  },
  {
   "cell_type": "code",
   "execution_count": 14,
   "metadata": {},
   "outputs": [
    {
     "data": {
      "text/plain": [
       "M    111\n",
       "R     97\n",
       "Name: 60, dtype: int64"
      ]
     },
     "execution_count": 14,
     "metadata": {},
     "output_type": "execute_result"
    }
   ],
   "source": [
    "df[60].value_counts()"
   ]
  },
  {
   "cell_type": "code",
   "execution_count": 15,
   "metadata": {},
   "outputs": [],
   "source": [
    "X=df.drop(60,axis='columns')\n",
    "y=df[60]"
   ]
  },
  {
   "cell_type": "code",
   "execution_count": 16,
   "metadata": {},
   "outputs": [
    {
     "data": {
      "text/html": [
       "<div>\n",
       "<style scoped>\n",
       "    .dataframe tbody tr th:only-of-type {\n",
       "        vertical-align: middle;\n",
       "    }\n",
       "\n",
       "    .dataframe tbody tr th {\n",
       "        vertical-align: top;\n",
       "    }\n",
       "\n",
       "    .dataframe thead th {\n",
       "        text-align: right;\n",
       "    }\n",
       "</style>\n",
       "<table border=\"1\" class=\"dataframe\">\n",
       "  <thead>\n",
       "    <tr style=\"text-align: right;\">\n",
       "      <th></th>\n",
       "      <th>R</th>\n",
       "    </tr>\n",
       "  </thead>\n",
       "  <tbody>\n",
       "    <tr>\n",
       "      <th>98</th>\n",
       "      <td>0</td>\n",
       "    </tr>\n",
       "    <tr>\n",
       "      <th>193</th>\n",
       "      <td>0</td>\n",
       "    </tr>\n",
       "    <tr>\n",
       "      <th>129</th>\n",
       "      <td>0</td>\n",
       "    </tr>\n",
       "    <tr>\n",
       "      <th>30</th>\n",
       "      <td>1</td>\n",
       "    </tr>\n",
       "    <tr>\n",
       "      <th>135</th>\n",
       "      <td>0</td>\n",
       "    </tr>\n",
       "  </tbody>\n",
       "</table>\n",
       "</div>"
      ],
      "text/plain": [
       "     R\n",
       "98   0\n",
       "193  0\n",
       "129  0\n",
       "30   1\n",
       "135  0"
      ]
     },
     "execution_count": 16,
     "metadata": {},
     "output_type": "execute_result"
    }
   ],
   "source": [
    "y=pd.get_dummies(y,drop_first=True)\n",
    "y.sample(5)"
   ]
  },
  {
   "cell_type": "code",
   "execution_count": 17,
   "metadata": {},
   "outputs": [],
   "source": [
    "from sklearn.model_selection import train_test_split\n",
    "X_train,X_test,y_train,y_test=train_test_split(X,y,test_size=0.2,random_state=1)"
   ]
  },
  {
   "cell_type": "code",
   "execution_count": 18,
   "metadata": {},
   "outputs": [
    {
     "data": {
      "text/plain": [
       "(166, 60)"
      ]
     },
     "execution_count": 18,
     "metadata": {},
     "output_type": "execute_result"
    }
   ],
   "source": [
    "X_train.shape"
   ]
  },
  {
   "cell_type": "code",
   "execution_count": 19,
   "metadata": {},
   "outputs": [],
   "source": [
    "import tensorflow as tf\n",
    "from tensorflow import keras"
   ]
  },
  {
   "cell_type": "code",
   "execution_count": 20,
   "metadata": {},
   "outputs": [],
   "source": [
    "model=keras.Sequential([\n",
    "    keras.layers.Dense(60,input_dim=60,activation='relu'),\n",
    "    keras.layers.Dense(30,activation='relu'),\n",
    "    keras.layers.Dense(15,activation='relu'),\n",
    "    keras.layers.Dense(1,activation='sigmoid'),\n",
    "])\n",
    "\n",
    "model.compile(loss='binary_crossentropy',optimizer='adam',metrics=['accuracy'])"
   ]
  },
  {
   "cell_type": "code",
   "execution_count": 21,
   "metadata": {},
   "outputs": [
    {
     "name": "stdout",
     "output_type": "stream",
     "text": [
      "Epoch 1/100\n",
      "21/21 [==============================] - 2s 5ms/step - loss: 0.6809 - accuracy: 0.5542\n",
      "Epoch 2/100\n",
      "21/21 [==============================] - 0s 4ms/step - loss: 0.6632 - accuracy: 0.5723\n",
      "Epoch 3/100\n",
      "21/21 [==============================] - 0s 6ms/step - loss: 0.6469 - accuracy: 0.5904\n",
      "Epoch 4/100\n",
      "21/21 [==============================] - 0s 7ms/step - loss: 0.6233 - accuracy: 0.6747: 0s - loss: 0.6359 - accuracy: 0.\n",
      "Epoch 5/100\n",
      "21/21 [==============================] - 0s 5ms/step - loss: 0.5990 - accuracy: 0.7048\n",
      "Epoch 6/100\n",
      "21/21 [==============================] - 0s 9ms/step - loss: 0.5792 - accuracy: 0.7289\n",
      "Epoch 7/100\n",
      "21/21 [==============================] - 0s 6ms/step - loss: 0.5400 - accuracy: 0.7349\n",
      "Epoch 8/100\n",
      "21/21 [==============================] - 0s 4ms/step - loss: 0.5138 - accuracy: 0.7530\n",
      "Epoch 9/100\n",
      "21/21 [==============================] - 0s 6ms/step - loss: 0.4719 - accuracy: 0.8133\n",
      "Epoch 10/100\n",
      "21/21 [==============================] - 0s 5ms/step - loss: 0.4382 - accuracy: 0.8313\n",
      "Epoch 11/100\n",
      "21/21 [==============================] - 0s 4ms/step - loss: 0.4229 - accuracy: 0.8494\n",
      "Epoch 12/100\n",
      "21/21 [==============================] - 0s 7ms/step - loss: 0.4155 - accuracy: 0.8494\n",
      "Epoch 13/100\n",
      "21/21 [==============================] - 0s 6ms/step - loss: 0.3810 - accuracy: 0.8434\n",
      "Epoch 14/100\n",
      "21/21 [==============================] - 0s 5ms/step - loss: 0.3823 - accuracy: 0.8434\n",
      "Epoch 15/100\n",
      "21/21 [==============================] - 0s 6ms/step - loss: 0.3569 - accuracy: 0.8313\n",
      "Epoch 16/100\n",
      "21/21 [==============================] - 0s 6ms/step - loss: 0.3453 - accuracy: 0.8554\n",
      "Epoch 17/100\n",
      "21/21 [==============================] - 0s 5ms/step - loss: 0.3412 - accuracy: 0.8313\n",
      "Epoch 18/100\n",
      "21/21 [==============================] - 0s 5ms/step - loss: 0.3085 - accuracy: 0.8735\n",
      "Epoch 19/100\n",
      "21/21 [==============================] - 0s 5ms/step - loss: 0.2864 - accuracy: 0.8916\n",
      "Epoch 20/100\n",
      "21/21 [==============================] - 0s 6ms/step - loss: 0.2869 - accuracy: 0.8735\n",
      "Epoch 21/100\n",
      "21/21 [==============================] - 0s 6ms/step - loss: 0.2897 - accuracy: 0.8675\n",
      "Epoch 22/100\n",
      "21/21 [==============================] - 0s 10ms/step - loss: 0.2898 - accuracy: 0.8855\n",
      "Epoch 23/100\n",
      "21/21 [==============================] - 0s 4ms/step - loss: 0.2381 - accuracy: 0.9337\n",
      "Epoch 24/100\n",
      "21/21 [==============================] - 0s 4ms/step - loss: 0.2532 - accuracy: 0.8795\n",
      "Epoch 25/100\n",
      "21/21 [==============================] - 0s 6ms/step - loss: 0.2757 - accuracy: 0.8855\n",
      "Epoch 26/100\n",
      "21/21 [==============================] - 0s 5ms/step - loss: 0.2332 - accuracy: 0.9217\n",
      "Epoch 27/100\n",
      "21/21 [==============================] - 0s 5ms/step - loss: 0.2293 - accuracy: 0.9157\n",
      "Epoch 28/100\n",
      "21/21 [==============================] - 0s 4ms/step - loss: 0.2036 - accuracy: 0.9096\n",
      "Epoch 29/100\n",
      "21/21 [==============================] - 0s 7ms/step - loss: 0.1714 - accuracy: 0.9458\n",
      "Epoch 30/100\n",
      "21/21 [==============================] - 0s 7ms/step - loss: 0.1735 - accuracy: 0.9398\n",
      "Epoch 31/100\n",
      "21/21 [==============================] - 0s 10ms/step - loss: 0.1684 - accuracy: 0.9458\n",
      "Epoch 32/100\n",
      "21/21 [==============================] - 0s 11ms/step - loss: 0.1505 - accuracy: 0.9578\n",
      "Epoch 33/100\n",
      "21/21 [==============================] - 0s 8ms/step - loss: 0.1528 - accuracy: 0.9458\n",
      "Epoch 34/100\n",
      "21/21 [==============================] - 0s 7ms/step - loss: 0.1434 - accuracy: 0.9699\n",
      "Epoch 35/100\n",
      "21/21 [==============================] - 0s 5ms/step - loss: 0.1275 - accuracy: 0.9819\n",
      "Epoch 36/100\n",
      "21/21 [==============================] - 0s 7ms/step - loss: 0.1209 - accuracy: 0.9639\n",
      "Epoch 37/100\n",
      "21/21 [==============================] - 0s 8ms/step - loss: 0.1187 - accuracy: 0.9639\n",
      "Epoch 38/100\n",
      "21/21 [==============================] - 0s 7ms/step - loss: 0.1020 - accuracy: 0.9699: 0s - loss: 0.1079 - accuracy: 0.96\n",
      "Epoch 39/100\n",
      "21/21 [==============================] - 0s 7ms/step - loss: 0.0959 - accuracy: 0.9759\n",
      "Epoch 40/100\n",
      "21/21 [==============================] - 0s 6ms/step - loss: 0.0923 - accuracy: 0.9699\n",
      "Epoch 41/100\n",
      "21/21 [==============================] - 0s 5ms/step - loss: 0.1165 - accuracy: 0.9578\n",
      "Epoch 42/100\n",
      "21/21 [==============================] - 0s 11ms/step - loss: 0.0988 - accuracy: 0.9639\n",
      "Epoch 43/100\n",
      "21/21 [==============================] - ETA: 0s - loss: 0.0857 - accuracy: 0.97 - 0s 6ms/step - loss: 0.0827 - accuracy: 0.9759\n",
      "Epoch 44/100\n",
      "21/21 [==============================] - 0s 6ms/step - loss: 0.0689 - accuracy: 0.9880\n",
      "Epoch 45/100\n",
      "21/21 [==============================] - 0s 4ms/step - loss: 0.0744 - accuracy: 0.9819\n",
      "Epoch 46/100\n",
      "21/21 [==============================] - 0s 7ms/step - loss: 0.0729 - accuracy: 0.9759\n",
      "Epoch 47/100\n",
      "21/21 [==============================] - 0s 5ms/step - loss: 0.0982 - accuracy: 0.9518\n",
      "Epoch 48/100\n",
      "21/21 [==============================] - 0s 6ms/step - loss: 0.0728 - accuracy: 0.9819\n",
      "Epoch 49/100\n",
      "21/21 [==============================] - 0s 4ms/step - loss: 0.0480 - accuracy: 1.0000\n",
      "Epoch 50/100\n",
      "21/21 [==============================] - 0s 5ms/step - loss: 0.0467 - accuracy: 0.9940\n",
      "Epoch 51/100\n",
      "21/21 [==============================] - 0s 6ms/step - loss: 0.0399 - accuracy: 1.0000\n",
      "Epoch 52/100\n",
      "21/21 [==============================] - 0s 7ms/step - loss: 0.0463 - accuracy: 0.9880\n",
      "Epoch 53/100\n",
      "21/21 [==============================] - 0s 5ms/step - loss: 0.0455 - accuracy: 0.9940\n",
      "Epoch 54/100\n",
      "21/21 [==============================] - 0s 7ms/step - loss: 0.0576 - accuracy: 0.9819\n",
      "Epoch 55/100\n",
      "21/21 [==============================] - 0s 4ms/step - loss: 0.0395 - accuracy: 0.9940\n",
      "Epoch 56/100\n",
      "21/21 [==============================] - 0s 7ms/step - loss: 0.0359 - accuracy: 0.9940\n",
      "Epoch 57/100\n",
      "21/21 [==============================] - 0s 5ms/step - loss: 0.0328 - accuracy: 1.0000\n",
      "Epoch 58/100\n",
      "21/21 [==============================] - 0s 4ms/step - loss: 0.0270 - accuracy: 1.0000\n",
      "Epoch 59/100\n",
      "21/21 [==============================] - 0s 7ms/step - loss: 0.0225 - accuracy: 1.0000\n",
      "Epoch 60/100\n",
      "21/21 [==============================] - 0s 6ms/step - loss: 0.0194 - accuracy: 1.0000\n",
      "Epoch 61/100\n",
      "21/21 [==============================] - 0s 6ms/step - loss: 0.0186 - accuracy: 1.0000\n",
      "Epoch 62/100\n",
      "21/21 [==============================] - 0s 6ms/step - loss: 0.0175 - accuracy: 1.0000\n",
      "Epoch 63/100\n",
      "21/21 [==============================] - 0s 6ms/step - loss: 0.0162 - accuracy: 1.0000\n",
      "Epoch 64/100\n",
      "21/21 [==============================] - 0s 5ms/step - loss: 0.0161 - accuracy: 1.0000\n",
      "Epoch 65/100\n",
      "21/21 [==============================] - 0s 5ms/step - loss: 0.0151 - accuracy: 1.0000\n",
      "Epoch 66/100\n",
      "21/21 [==============================] - 0s 8ms/step - loss: 0.0150 - accuracy: 1.0000\n",
      "Epoch 67/100\n",
      "21/21 [==============================] - 0s 5ms/step - loss: 0.0112 - accuracy: 1.0000\n",
      "Epoch 68/100\n",
      "21/21 [==============================] - 0s 6ms/step - loss: 0.0114 - accuracy: 1.0000\n",
      "Epoch 69/100\n",
      "21/21 [==============================] - 0s 7ms/step - loss: 0.0101 - accuracy: 1.0000\n",
      "Epoch 70/100\n",
      "21/21 [==============================] - 0s 5ms/step - loss: 0.0115 - accuracy: 1.0000\n",
      "Epoch 71/100\n",
      "21/21 [==============================] - 0s 6ms/step - loss: 0.0139 - accuracy: 1.0000\n",
      "Epoch 72/100\n",
      "21/21 [==============================] - 0s 6ms/step - loss: 0.0109 - accuracy: 1.0000\n",
      "Epoch 73/100\n",
      "21/21 [==============================] - 0s 6ms/step - loss: 0.0101 - accuracy: 1.0000\n",
      "Epoch 74/100\n",
      "21/21 [==============================] - 0s 6ms/step - loss: 0.0081 - accuracy: 1.0000\n",
      "Epoch 75/100\n",
      "21/21 [==============================] - 0s 6ms/step - loss: 0.0069 - accuracy: 1.0000\n",
      "Epoch 76/100\n",
      "21/21 [==============================] - 0s 6ms/step - loss: 0.0089 - accuracy: 1.0000\n",
      "Epoch 77/100\n",
      "21/21 [==============================] - 0s 3ms/step - loss: 0.0068 - accuracy: 1.0000\n",
      "Epoch 78/100\n",
      "21/21 [==============================] - 0s 7ms/step - loss: 0.0065 - accuracy: 1.0000\n",
      "Epoch 79/100\n",
      "21/21 [==============================] - 0s 5ms/step - loss: 0.0060 - accuracy: 1.0000\n",
      "Epoch 80/100\n",
      "21/21 [==============================] - 0s 5ms/step - loss: 0.0054 - accuracy: 1.0000\n",
      "Epoch 81/100\n"
     ]
    },
    {
     "name": "stdout",
     "output_type": "stream",
     "text": [
      "21/21 [==============================] - 0s 10ms/step - loss: 0.0053 - accuracy: 1.0000\n",
      "Epoch 82/100\n",
      "21/21 [==============================] - 0s 7ms/step - loss: 0.0056 - accuracy: 1.0000\n",
      "Epoch 83/100\n",
      "21/21 [==============================] - ETA: 0s - loss: 0.0050 - accuracy: 1.00 - 0s 5ms/step - loss: 0.0048 - accuracy: 1.0000\n",
      "Epoch 84/100\n",
      "21/21 [==============================] - 0s 4ms/step - loss: 0.0048 - accuracy: 1.0000\n",
      "Epoch 85/100\n",
      "21/21 [==============================] - 0s 5ms/step - loss: 0.0045 - accuracy: 1.0000\n",
      "Epoch 86/100\n",
      "21/21 [==============================] - 0s 4ms/step - loss: 0.0043 - accuracy: 1.0000\n",
      "Epoch 87/100\n",
      "21/21 [==============================] - 0s 6ms/step - loss: 0.0040 - accuracy: 1.0000\n",
      "Epoch 88/100\n",
      "21/21 [==============================] - 0s 4ms/step - loss: 0.0041 - accuracy: 1.0000\n",
      "Epoch 89/100\n",
      "21/21 [==============================] - 0s 6ms/step - loss: 0.0042 - accuracy: 1.0000\n",
      "Epoch 90/100\n",
      "21/21 [==============================] - 0s 6ms/step - loss: 0.0037 - accuracy: 1.0000\n",
      "Epoch 91/100\n",
      "21/21 [==============================] - 0s 5ms/step - loss: 0.0038 - accuracy: 1.0000\n",
      "Epoch 92/100\n",
      "21/21 [==============================] - 0s 5ms/step - loss: 0.0033 - accuracy: 1.0000\n",
      "Epoch 93/100\n",
      "21/21 [==============================] - 0s 6ms/step - loss: 0.0031 - accuracy: 1.0000\n",
      "Epoch 94/100\n",
      "21/21 [==============================] - 0s 4ms/step - loss: 0.0029 - accuracy: 1.0000\n",
      "Epoch 95/100\n",
      "21/21 [==============================] - 0s 5ms/step - loss: 0.0030 - accuracy: 1.0000\n",
      "Epoch 96/100\n",
      "21/21 [==============================] - 0s 3ms/step - loss: 0.0031 - accuracy: 1.0000\n",
      "Epoch 97/100\n",
      "21/21 [==============================] - 0s 5ms/step - loss: 0.0028 - accuracy: 1.0000\n",
      "Epoch 98/100\n",
      "21/21 [==============================] - 0s 9ms/step - loss: 0.0027 - accuracy: 1.0000\n",
      "Epoch 99/100\n",
      "21/21 [==============================] - 0s 7ms/step - loss: 0.0027 - accuracy: 1.0000\n",
      "Epoch 100/100\n",
      "21/21 [==============================] - 0s 8ms/step - loss: 0.0025 - accuracy: 1.0000\n"
     ]
    },
    {
     "data": {
      "text/plain": [
       "<tensorflow.python.keras.callbacks.History at 0x194d757e460>"
      ]
     },
     "execution_count": 21,
     "metadata": {},
     "output_type": "execute_result"
    }
   ],
   "source": [
    "model.fit(X_train,y_train,epochs=100,batch_size=8)"
   ]
  },
  {
   "cell_type": "code",
   "execution_count": 22,
   "metadata": {},
   "outputs": [
    {
     "name": "stdout",
     "output_type": "stream",
     "text": [
      "2/2 [==============================] - 0s 6ms/step - loss: 0.9121 - accuracy: 0.7143\n"
     ]
    },
    {
     "data": {
      "text/plain": [
       "[0.9120503664016724, 0.7142857313156128]"
      ]
     },
     "execution_count": 22,
     "metadata": {},
     "output_type": "execute_result"
    }
   ],
   "source": [
    "model.evaluate(X_test,y_test)"
   ]
  },
  {
   "cell_type": "code",
   "execution_count": 23,
   "metadata": {},
   "outputs": [
    {
     "name": "stdout",
     "output_type": "stream",
     "text": [
      "[3.6758630e-12 7.1199161e-01 9.0704274e-01 3.2529053e-07 9.9995899e-01\n",
      " 9.9951410e-01 2.4694848e-01 9.9998641e-01 3.1705016e-09 9.9998295e-01]\n",
      "[0. 1. 1. 0. 1. 1. 0. 1. 0. 1.]\n"
     ]
    }
   ],
   "source": [
    "y_pred=model.predict(X_test).reshape(-1)\n",
    "print(y_pred[:10])\n",
    "\n",
    "y_pred=np.round(y_pred)\n",
    "print(y_pred[:10])"
   ]
  },
  {
   "cell_type": "code",
   "execution_count": 25,
   "metadata": {},
   "outputs": [
    {
     "name": "stdout",
     "output_type": "stream",
     "text": [
      "              precision    recall  f1-score   support\n",
      "\n",
      "           0       0.65      0.85      0.74        20\n",
      "           1       0.81      0.59      0.68        22\n",
      "\n",
      "    accuracy                           0.71        42\n",
      "   macro avg       0.73      0.72      0.71        42\n",
      "weighted avg       0.74      0.71      0.71        42\n",
      "\n"
     ]
    }
   ],
   "source": [
    "from sklearn.metrics import classification_report\n",
    "print(classification_report(y_test,y_pred))"
   ]
  },
  {
   "cell_type": "markdown",
   "metadata": {},
   "source": [
    "# Dropout layers"
   ]
  },
  {
   "cell_type": "code",
   "execution_count": 26,
   "metadata": {},
   "outputs": [],
   "source": [
    "model=keras.Sequential([\n",
    "    keras.layers.Dense(60,input_dim=60,activation='relu'),\n",
    "    keras.layers.Dropout(0.5),\n",
    "    keras.layers.Dense(30,activation='relu'),\n",
    "    keras.layers.Dropout(0.5),\n",
    "    keras.layers.Dense(15,activation='relu'),\n",
    "    keras.layers.Dropout(0.5),\n",
    "    keras.layers.Dense(1,activation='sigmoid'),\n",
    "])\n",
    "\n",
    "model.compile(loss='binary_crossentropy',optimizer='adam',metrics=['accuracy'])"
   ]
  },
  {
   "cell_type": "code",
   "execution_count": 27,
   "metadata": {},
   "outputs": [
    {
     "name": "stdout",
     "output_type": "stream",
     "text": [
      "Epoch 1/100\n",
      "21/21 [==============================] - 2s 4ms/step - loss: 0.7721 - accuracy: 0.5361\n",
      "Epoch 2/100\n",
      "21/21 [==============================] - 0s 4ms/step - loss: 0.7031 - accuracy: 0.6145\n",
      "Epoch 3/100\n",
      "21/21 [==============================] - 0s 4ms/step - loss: 0.7047 - accuracy: 0.5000\n",
      "Epoch 4/100\n",
      "21/21 [==============================] - 0s 5ms/step - loss: 0.7359 - accuracy: 0.5000\n",
      "Epoch 5/100\n",
      "21/21 [==============================] - 0s 6ms/step - loss: 0.7296 - accuracy: 0.5301\n",
      "Epoch 6/100\n",
      "21/21 [==============================] - 0s 5ms/step - loss: 0.7110 - accuracy: 0.5361\n",
      "Epoch 7/100\n",
      "21/21 [==============================] - 0s 5ms/step - loss: 0.7051 - accuracy: 0.5241\n",
      "Epoch 8/100\n",
      "21/21 [==============================] - 0s 5ms/step - loss: 0.6966 - accuracy: 0.5181\n",
      "Epoch 9/100\n",
      "21/21 [==============================] - 0s 5ms/step - loss: 0.6893 - accuracy: 0.5422\n",
      "Epoch 10/100\n",
      "21/21 [==============================] - 0s 5ms/step - loss: 0.6923 - accuracy: 0.5904\n",
      "Epoch 11/100\n",
      "21/21 [==============================] - 0s 4ms/step - loss: 0.7043 - accuracy: 0.5241\n",
      "Epoch 12/100\n",
      "21/21 [==============================] - 0s 5ms/step - loss: 0.6992 - accuracy: 0.4940\n",
      "Epoch 13/100\n",
      "21/21 [==============================] - 0s 5ms/step - loss: 0.6689 - accuracy: 0.5422\n",
      "Epoch 14/100\n",
      "21/21 [==============================] - 0s 5ms/step - loss: 0.6933 - accuracy: 0.5181\n",
      "Epoch 15/100\n",
      "21/21 [==============================] - 0s 5ms/step - loss: 0.6766 - accuracy: 0.5904\n",
      "Epoch 16/100\n",
      "21/21 [==============================] - 0s 5ms/step - loss: 0.6939 - accuracy: 0.5241\n",
      "Epoch 17/100\n",
      "21/21 [==============================] - 0s 5ms/step - loss: 0.6604 - accuracy: 0.6084\n",
      "Epoch 18/100\n",
      "21/21 [==============================] - 0s 4ms/step - loss: 0.6838 - accuracy: 0.5843\n",
      "Epoch 19/100\n",
      "21/21 [==============================] - 0s 7ms/step - loss: 0.6842 - accuracy: 0.5482\n",
      "Epoch 20/100\n",
      "21/21 [==============================] - 0s 8ms/step - loss: 0.6679 - accuracy: 0.5904\n",
      "Epoch 21/100\n",
      "21/21 [==============================] - 0s 4ms/step - loss: 0.6683 - accuracy: 0.6024\n",
      "Epoch 22/100\n",
      "21/21 [==============================] - 0s 6ms/step - loss: 0.6562 - accuracy: 0.5904\n",
      "Epoch 23/100\n",
      "21/21 [==============================] - 0s 4ms/step - loss: 0.6680 - accuracy: 0.6205\n",
      "Epoch 24/100\n",
      "21/21 [==============================] - 0s 4ms/step - loss: 0.6270 - accuracy: 0.6024\n",
      "Epoch 25/100\n",
      "21/21 [==============================] - 0s 6ms/step - loss: 0.6830 - accuracy: 0.5663\n",
      "Epoch 26/100\n",
      "21/21 [==============================] - 0s 5ms/step - loss: 0.6628 - accuracy: 0.5964\n",
      "Epoch 27/100\n",
      "21/21 [==============================] - 0s 4ms/step - loss: 0.6450 - accuracy: 0.5843\n",
      "Epoch 28/100\n",
      "21/21 [==============================] - 0s 6ms/step - loss: 0.6158 - accuracy: 0.6084\n",
      "Epoch 29/100\n",
      "21/21 [==============================] - 0s 6ms/step - loss: 0.6235 - accuracy: 0.6627\n",
      "Epoch 30/100\n",
      "21/21 [==============================] - 0s 5ms/step - loss: 0.6224 - accuracy: 0.6325\n",
      "Epoch 31/100\n",
      "21/21 [==============================] - 0s 8ms/step - loss: 0.6458 - accuracy: 0.5843\n",
      "Epoch 32/100\n",
      "21/21 [==============================] - 0s 5ms/step - loss: 0.6437 - accuracy: 0.5904\n",
      "Epoch 33/100\n",
      "21/21 [==============================] - 0s 5ms/step - loss: 0.6227 - accuracy: 0.6687\n",
      "Epoch 34/100\n",
      "21/21 [==============================] - 0s 7ms/step - loss: 0.5901 - accuracy: 0.6687\n",
      "Epoch 35/100\n",
      "21/21 [==============================] - 0s 6ms/step - loss: 0.6206 - accuracy: 0.6747\n",
      "Epoch 36/100\n",
      "21/21 [==============================] - 0s 6ms/step - loss: 0.5961 - accuracy: 0.7289\n",
      "Epoch 37/100\n",
      "21/21 [==============================] - 0s 4ms/step - loss: 0.6069 - accuracy: 0.6807\n",
      "Epoch 38/100\n",
      "21/21 [==============================] - 0s 4ms/step - loss: 0.5626 - accuracy: 0.7590\n",
      "Epoch 39/100\n",
      "21/21 [==============================] - 0s 5ms/step - loss: 0.5513 - accuracy: 0.7289\n",
      "Epoch 40/100\n",
      "21/21 [==============================] - 0s 5ms/step - loss: 0.5809 - accuracy: 0.7289\n",
      "Epoch 41/100\n",
      "21/21 [==============================] - 0s 9ms/step - loss: 0.5823 - accuracy: 0.7289\n",
      "Epoch 42/100\n",
      "21/21 [==============================] - 0s 5ms/step - loss: 0.5830 - accuracy: 0.6807\n",
      "Epoch 43/100\n",
      "21/21 [==============================] - 0s 5ms/step - loss: 0.5909 - accuracy: 0.7289\n",
      "Epoch 44/100\n",
      "21/21 [==============================] - 0s 5ms/step - loss: 0.5517 - accuracy: 0.7229\n",
      "Epoch 45/100\n",
      "21/21 [==============================] - 0s 7ms/step - loss: 0.5495 - accuracy: 0.7108\n",
      "Epoch 46/100\n",
      "21/21 [==============================] - 0s 5ms/step - loss: 0.5300 - accuracy: 0.7651\n",
      "Epoch 47/100\n",
      "21/21 [==============================] - 0s 4ms/step - loss: 0.5837 - accuracy: 0.6867\n",
      "Epoch 48/100\n",
      "21/21 [==============================] - 0s 8ms/step - loss: 0.5407 - accuracy: 0.6807\n",
      "Epoch 49/100\n",
      "21/21 [==============================] - 0s 6ms/step - loss: 0.5150 - accuracy: 0.7711\n",
      "Epoch 50/100\n",
      "21/21 [==============================] - 0s 5ms/step - loss: 0.5780 - accuracy: 0.6807\n",
      "Epoch 51/100\n",
      "21/21 [==============================] - 0s 5ms/step - loss: 0.4852 - accuracy: 0.8012\n",
      "Epoch 52/100\n",
      "21/21 [==============================] - 0s 5ms/step - loss: 0.4977 - accuracy: 0.7771\n",
      "Epoch 53/100\n",
      "21/21 [==============================] - 0s 4ms/step - loss: 0.5118 - accuracy: 0.7711\n",
      "Epoch 54/100\n",
      "21/21 [==============================] - 0s 4ms/step - loss: 0.4902 - accuracy: 0.7771\n",
      "Epoch 55/100\n",
      "21/21 [==============================] - 0s 5ms/step - loss: 0.4765 - accuracy: 0.7892\n",
      "Epoch 56/100\n",
      "21/21 [==============================] - 0s 4ms/step - loss: 0.4869 - accuracy: 0.8133\n",
      "Epoch 57/100\n",
      "21/21 [==============================] - 0s 4ms/step - loss: 0.4550 - accuracy: 0.8373\n",
      "Epoch 58/100\n",
      "21/21 [==============================] - 0s 4ms/step - loss: 0.5102 - accuracy: 0.7530: 0s - loss: 0.5001 - accuracy: 0.74\n",
      "Epoch 59/100\n",
      "21/21 [==============================] - 0s 4ms/step - loss: 0.4655 - accuracy: 0.8012\n",
      "Epoch 60/100\n",
      "21/21 [==============================] - 0s 5ms/step - loss: 0.5020 - accuracy: 0.7590\n",
      "Epoch 61/100\n",
      "21/21 [==============================] - 0s 4ms/step - loss: 0.5117 - accuracy: 0.7952\n",
      "Epoch 62/100\n",
      "21/21 [==============================] - 0s 5ms/step - loss: 0.4816 - accuracy: 0.7590\n",
      "Epoch 63/100\n",
      "21/21 [==============================] - 0s 5ms/step - loss: 0.4356 - accuracy: 0.8072\n",
      "Epoch 64/100\n",
      "21/21 [==============================] - 0s 4ms/step - loss: 0.4176 - accuracy: 0.7892\n",
      "Epoch 65/100\n",
      "21/21 [==============================] - 0s 4ms/step - loss: 0.4419 - accuracy: 0.8193\n",
      "Epoch 66/100\n",
      "21/21 [==============================] - 0s 4ms/step - loss: 0.4397 - accuracy: 0.8072\n",
      "Epoch 67/100\n",
      "21/21 [==============================] - 0s 9ms/step - loss: 0.3852 - accuracy: 0.8373\n",
      "Epoch 68/100\n",
      "21/21 [==============================] - 0s 4ms/step - loss: 0.4468 - accuracy: 0.8193\n",
      "Epoch 69/100\n",
      "21/21 [==============================] - 0s 4ms/step - loss: 0.4153 - accuracy: 0.8373\n",
      "Epoch 70/100\n",
      "21/21 [==============================] - 0s 4ms/step - loss: 0.4443 - accuracy: 0.8133\n",
      "Epoch 71/100\n",
      "21/21 [==============================] - 0s 5ms/step - loss: 0.3492 - accuracy: 0.8373\n",
      "Epoch 72/100\n",
      "21/21 [==============================] - 0s 6ms/step - loss: 0.3902 - accuracy: 0.8434\n",
      "Epoch 73/100\n",
      "21/21 [==============================] - 0s 4ms/step - loss: 0.3665 - accuracy: 0.8614\n",
      "Epoch 74/100\n",
      "21/21 [==============================] - 0s 4ms/step - loss: 0.3731 - accuracy: 0.8554\n",
      "Epoch 75/100\n",
      "21/21 [==============================] - 0s 5ms/step - loss: 0.3766 - accuracy: 0.8313\n",
      "Epoch 76/100\n",
      "21/21 [==============================] - 0s 6ms/step - loss: 0.3511 - accuracy: 0.8916\n",
      "Epoch 77/100\n",
      "21/21 [==============================] - 0s 8ms/step - loss: 0.4554 - accuracy: 0.8072\n",
      "Epoch 78/100\n",
      "21/21 [==============================] - 0s 9ms/step - loss: 0.3747 - accuracy: 0.8434\n",
      "Epoch 79/100\n",
      "21/21 [==============================] - 0s 10ms/step - loss: 0.3505 - accuracy: 0.8675\n",
      "Epoch 80/100\n",
      "21/21 [==============================] - 0s 9ms/step - loss: 0.3563 - accuracy: 0.8795\n",
      "Epoch 81/100\n",
      "21/21 [==============================] - 0s 6ms/step - loss: 0.3702 - accuracy: 0.8373\n",
      "Epoch 82/100\n"
     ]
    },
    {
     "name": "stdout",
     "output_type": "stream",
     "text": [
      "21/21 [==============================] - 0s 4ms/step - loss: 0.3700 - accuracy: 0.8133\n",
      "Epoch 83/100\n",
      "21/21 [==============================] - 0s 9ms/step - loss: 0.3971 - accuracy: 0.8373\n",
      "Epoch 84/100\n",
      "21/21 [==============================] - 0s 6ms/step - loss: 0.3803 - accuracy: 0.8072\n",
      "Epoch 85/100\n",
      "21/21 [==============================] - 0s 5ms/step - loss: 0.4019 - accuracy: 0.8373\n",
      "Epoch 86/100\n",
      "21/21 [==============================] - 0s 6ms/step - loss: 0.3193 - accuracy: 0.8855\n",
      "Epoch 87/100\n",
      "21/21 [==============================] - 0s 7ms/step - loss: 0.3488 - accuracy: 0.8554\n",
      "Epoch 88/100\n",
      "21/21 [==============================] - 0s 4ms/step - loss: 0.3317 - accuracy: 0.8735\n",
      "Epoch 89/100\n",
      "21/21 [==============================] - 0s 5ms/step - loss: 0.3942 - accuracy: 0.8373\n",
      "Epoch 90/100\n",
      "21/21 [==============================] - 0s 5ms/step - loss: 0.3704 - accuracy: 0.8675\n",
      "Epoch 91/100\n",
      "21/21 [==============================] - 0s 5ms/step - loss: 0.3250 - accuracy: 0.8735\n",
      "Epoch 92/100\n",
      "21/21 [==============================] - 0s 4ms/step - loss: 0.3318 - accuracy: 0.8614\n",
      "Epoch 93/100\n",
      "21/21 [==============================] - 0s 4ms/step - loss: 0.3549 - accuracy: 0.8554\n",
      "Epoch 94/100\n",
      "21/21 [==============================] - 0s 6ms/step - loss: 0.3395 - accuracy: 0.8614\n",
      "Epoch 95/100\n",
      "21/21 [==============================] - 0s 6ms/step - loss: 0.2960 - accuracy: 0.8976\n",
      "Epoch 96/100\n",
      "21/21 [==============================] - 0s 4ms/step - loss: 0.3306 - accuracy: 0.8976\n",
      "Epoch 97/100\n",
      "21/21 [==============================] - 0s 4ms/step - loss: 0.2886 - accuracy: 0.8855\n",
      "Epoch 98/100\n",
      "21/21 [==============================] - 0s 5ms/step - loss: 0.2672 - accuracy: 0.9036\n",
      "Epoch 99/100\n",
      "21/21 [==============================] - 0s 6ms/step - loss: 0.2889 - accuracy: 0.9277\n",
      "Epoch 100/100\n",
      "21/21 [==============================] - 0s 5ms/step - loss: 0.2502 - accuracy: 0.9036\n"
     ]
    },
    {
     "data": {
      "text/plain": [
       "<tensorflow.python.keras.callbacks.History at 0x194dc73c610>"
      ]
     },
     "execution_count": 27,
     "metadata": {},
     "output_type": "execute_result"
    }
   ],
   "source": [
    "model.fit(X_train,y_train,epochs=100,batch_size=8)"
   ]
  },
  {
   "cell_type": "code",
   "execution_count": 28,
   "metadata": {},
   "outputs": [
    {
     "name": "stdout",
     "output_type": "stream",
     "text": [
      "2/2 [==============================] - 1s 7ms/step - loss: 0.4637 - accuracy: 0.7857\n"
     ]
    },
    {
     "data": {
      "text/plain": [
       "[0.46367478370666504, 0.7857142686843872]"
      ]
     },
     "execution_count": 28,
     "metadata": {},
     "output_type": "execute_result"
    }
   ],
   "source": [
    "model.evaluate(X_test,y_test)"
   ]
  },
  {
   "cell_type": "code",
   "execution_count": null,
   "metadata": {},
   "outputs": [],
   "source": []
  }
 ],
 "metadata": {
  "kernelspec": {
   "display_name": "Python 3",
   "language": "python",
   "name": "python3"
  },
  "language_info": {
   "codemirror_mode": {
    "name": "ipython",
    "version": 3
   },
   "file_extension": ".py",
   "mimetype": "text/x-python",
   "name": "python",
   "nbconvert_exporter": "python",
   "pygments_lexer": "ipython3",
   "version": "3.8.5"
  }
 },
 "nbformat": 4,
 "nbformat_minor": 4
}
